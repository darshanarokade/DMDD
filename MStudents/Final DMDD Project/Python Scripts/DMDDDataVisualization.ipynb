{
 "cells": [
  {
   "cell_type": "code",
   "execution_count": null,
   "id": "44024a91",
   "metadata": {},
   "outputs": [],
   "source": [
    "#Load the required libraries\n",
    "import pandas as pd\n",
    "import numpy as np\n",
    "import seaborn as sns\n",
    "#Load the data\n",
    "df = pd.read_csv(\"D:\\Darshana\\\\NEU\\Study\\DMDD\\dummy.csv\")\n",
    "#View the data\n",
    "df.head()"
   ]
  },
  {
   "cell_type": "code",
   "execution_count": null,
   "id": "26fc86db",
   "metadata": {},
   "outputs": [],
   "source": [
    "#Basic Info\n",
    "\n",
    "df.info()\n",
    "\n",
    "#Describe the data\n",
    "\n",
    "df.describe()\n"
   ]
  },
  {
   "cell_type": "code",
   "execution_count": null,
   "id": "337ba63f",
   "metadata": {},
   "outputs": [],
   "source": [
    "df.duplicated().sum()"
   ]
  },
  {
   "cell_type": "code",
   "execution_count": null,
   "id": "86323364",
   "metadata": {},
   "outputs": [],
   "source": [
    "df[[\"Rating\"]].plot.hist(bins = 20, title = \"Old Rating\")"
   ]
  },
  {
   "cell_type": "code",
   "execution_count": null,
   "id": "c0fc4c27",
   "metadata": {},
   "outputs": [],
   "source": [
    "df.Rating"
   ]
  },
  {
   "cell_type": "code",
   "execution_count": null,
   "id": "009070b6",
   "metadata": {},
   "outputs": [],
   "source": [
    "df[\"Rating_new\"]=df[\"Rating\"]\n",
    "df.Rating_new.replace([-1.0],[0.0],inplace=True)\n",
    "df.Rating_new"
   ]
  },
  {
   "cell_type": "code",
   "execution_count": null,
   "id": "b5585ead",
   "metadata": {},
   "outputs": [],
   "source": [
    "df.isnull().sum()"
   ]
  },
  {
   "cell_type": "code",
   "execution_count": null,
   "id": "c322e899",
   "metadata": {},
   "outputs": [],
   "source": [
    "df.corr()"
   ]
  },
  {
   "cell_type": "code",
   "execution_count": null,
   "id": "549d4dd2",
   "metadata": {},
   "outputs": [],
   "source": [
    "sns.heatmap(df.corr())"
   ]
  },
  {
   "cell_type": "code",
   "execution_count": null,
   "id": "be021f1b",
   "metadata": {},
   "outputs": [],
   "source": [
    "df[[\"Founded\"]].plot.hist(bins = 20, title = \"Old Founded\")"
   ]
  },
  {
   "cell_type": "code",
   "execution_count": null,
   "id": "ca9c89e1",
   "metadata": {},
   "outputs": [],
   "source": [
    "df.Founded"
   ]
  },
  {
   "cell_type": "code",
   "execution_count": null,
   "id": "3a34aab6",
   "metadata": {},
   "outputs": [],
   "source": [
    "df[\"Founded_new\"]=df[\"Founded\"]\n",
    "df.Founded_new.replace([-1],[0],inplace=True)\n",
    "df.Founded_new"
   ]
  },
  {
   "cell_type": "code",
   "execution_count": null,
   "id": "9197ddbb",
   "metadata": {},
   "outputs": [],
   "source": [
    "df.isnull().sum()"
   ]
  },
  {
   "cell_type": "code",
   "execution_count": null,
   "id": "49548670",
   "metadata": {},
   "outputs": [],
   "source": [
    "df.corr()"
   ]
  },
  {
   "cell_type": "code",
   "execution_count": null,
   "id": "a63a1848",
   "metadata": {},
   "outputs": [],
   "source": [
    "sns.heatmap(df.corr())"
   ]
  }
 ],
 "metadata": {
  "kernelspec": {
   "display_name": "Python 3 (ipykernel)",
   "language": "python",
   "name": "python3"
  },
  "language_info": {
   "codemirror_mode": {
    "name": "ipython",
    "version": 3
   },
   "file_extension": ".py",
   "mimetype": "text/x-python",
   "name": "python",
   "nbconvert_exporter": "python",
   "pygments_lexer": "ipython3",
   "version": "3.10.8"
  }
 },
 "nbformat": 4,
 "nbformat_minor": 5
}
